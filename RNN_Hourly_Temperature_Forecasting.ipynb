{
  "nbformat": 4,
  "nbformat_minor": 0,
  "metadata": {
    "colab": {
      "provenance": [],
      "authorship_tag": "ABX9TyP1YPvY0PGq2el1OhN6/a8S",
      "include_colab_link": true
    },
    "kernelspec": {
      "name": "python3",
      "display_name": "Python 3"
    },
    "language_info": {
      "name": "python"
    }
  },
  "cells": [
    {
      "cell_type": "markdown",
      "metadata": {
        "id": "view-in-github",
        "colab_type": "text"
      },
      "source": [
        "<a href=\"https://colab.research.google.com/github/conglapgit45/RNN_Hourly_Temperature_Forecasting/blob/main/RNN_Hourly_Temperature_Forecasting.ipynb\" target=\"_parent\"><img src=\"https://colab.research.google.com/assets/colab-badge.svg\" alt=\"Open In Colab\"/></a>"
      ]
    },
    {
      "cell_type": "code",
      "source": [
        "!pip install unidecode"
      ],
      "metadata": {
        "colab": {
          "base_uri": "https://localhost:8080/"
        },
        "id": "Eflphoa-gXR-",
        "outputId": "2e9e5243-0633-4664-fba4-5843e70d50be"
      },
      "execution_count": 1,
      "outputs": [
        {
          "output_type": "stream",
          "name": "stdout",
          "text": [
            "Collecting unidecode\n",
            "  Downloading Unidecode-1.3.8-py3-none-any.whl.metadata (13 kB)\n",
            "Downloading Unidecode-1.3.8-py3-none-any.whl (235 kB)\n",
            "\u001b[?25l   \u001b[90m━━━━━━━━━━━━━━━━━━━━━━━━━━━━━━━━━━━━━━━━\u001b[0m \u001b[32m0.0/235.5 kB\u001b[0m \u001b[31m?\u001b[0m eta \u001b[36m-:--:--\u001b[0m\r\u001b[2K   \u001b[90m━━━━━━━━━━━━━━━━━━━━━━━━━━━━━━━━━━━━━━━━\u001b[0m \u001b[32m235.5/235.5 kB\u001b[0m \u001b[31m6.8 MB/s\u001b[0m eta \u001b[36m0:00:00\u001b[0m\n",
            "\u001b[?25hInstalling collected packages: unidecode\n",
            "Successfully installed unidecode-1.3.8\n"
          ]
        }
      ]
    },
    {
      "cell_type": "code",
      "execution_count": 2,
      "metadata": {
        "colab": {
          "base_uri": "https://localhost:8080/"
        },
        "id": "50-gsIh_gKJ6",
        "outputId": "be8114ce-2415-43bf-b03c-07dee9cc9487"
      },
      "outputs": [
        {
          "output_type": "stream",
          "name": "stderr",
          "text": [
            "[nltk_data] Downloading package stopwords to /root/nltk_data...\n",
            "[nltk_data]   Unzipping corpora/stopwords.zip.\n"
          ]
        }
      ],
      "source": [
        "import torch\n",
        "import torch.nn as nn\n",
        "\n",
        "seed = 1\n",
        "torch.manual_seed(seed)\n",
        "\n",
        "import os\n",
        "import numpy as np\n",
        "import pandas as pd\n",
        "import matplotlib.pyplot as plt\n",
        "import re\n",
        "import nltk\n",
        "import unidecode\n",
        "\n",
        "nltk.download('stopwords')\n",
        "from nltk.corpus import stopwords\n",
        "from nltk.stem.porter import PorterStemmer\n",
        "\n",
        "from torch.utils.data import Dataset, DataLoader\n",
        "from sklearn.model_selection import train_test_split"
      ]
    },
    {
      "cell_type": "code",
      "source": [
        "!gdown --id 178YSDYmlRh54IcxStgYA3UyKFRM9-3DO\n",
        "\n",
        "!unzip /content/dataset.zip"
      ],
      "metadata": {
        "colab": {
          "base_uri": "https://localhost:8080/"
        },
        "id": "DfQGYEJdgXUs",
        "outputId": "8473df0b-1ea3-4ebf-99b6-332b7f6511f0"
      },
      "execution_count": 3,
      "outputs": [
        {
          "output_type": "stream",
          "name": "stdout",
          "text": [
            "/usr/local/lib/python3.10/dist-packages/gdown/__main__.py:140: FutureWarning: Option `--id` was deprecated in version 4.3.1 and will be removed in 5.0. You don't need to pass it anymore to use a file ID.\n",
            "  warnings.warn(\n",
            "Downloading...\n",
            "From: https://drive.google.com/uc?id=178YSDYmlRh54IcxStgYA3UyKFRM9-3DO\n",
            "To: /content/dataset.zip\n",
            "100% 2.35M/2.35M [00:00<00:00, 139MB/s]\n",
            "Archive:  /content/dataset.zip\n",
            "   creating: dataset/\n",
            "  inflating: dataset/weatherHistory.csv  \n"
          ]
        }
      ]
    },
    {
      "cell_type": "code",
      "source": [
        "# Read data\n",
        "\n",
        "dataset_filepath = 'dataset/weatherHistory.csv'\n",
        "df = pd.read_csv(dataset_filepath)\n",
        "\n",
        "univariate_df = df['Temperature (C)']\n",
        "univariate_df.index = df['Formatted Date']"
      ],
      "metadata": {
        "id": "_U-35fWBgjDj"
      },
      "execution_count": 4,
      "outputs": []
    },
    {
      "cell_type": "code",
      "source": [
        "# Mapping X and y\n",
        "\n",
        "input_size = 6\n",
        "label_size = 1\n",
        "offset = 1\n",
        "\n",
        "def slicing_window(df, df_start_idx, df_end_idx, input_size, label_size, offset):\n",
        "    features = []\n",
        "    labels = []\n",
        "\n",
        "    window_size = input_size + offset\n",
        "\n",
        "    if df_end_idx == None:\n",
        "        df_end_idx = len(df) - window_size\n",
        "\n",
        "    for idx in range(df_start_idx, df_end_idx):\n",
        "        feature_end_idx = idx + input_size\n",
        "        label_start_idx = idx + window_size - label_size\n",
        "\n",
        "        feature = df[idx : feature_end_idx ]\n",
        "        label = df[label_start_idx : (idx+ window_size)]\n",
        "\n",
        "        features.append(feature)\n",
        "        labels.append(label)\n",
        "\n",
        "    features = np.expand_dims(np.array(features), -1)\n",
        "    labels = np.array(labels)\n",
        "\n",
        "    return features, labels"
      ],
      "metadata": {
        "id": "zA7Ilt1jglQL"
      },
      "execution_count": 5,
      "outputs": []
    },
    {
      "cell_type": "code",
      "source": [
        "# Split data to train, val, test\n",
        "\n",
        "dataset_length = len(univariate_df)\n",
        "train_size = 0.7\n",
        "val_size = 0.2\n",
        "train_end_idx = int(train_size * dataset_length)\n",
        "val_end_idx = int(val_size * dataset_length) + train_end_idx\n",
        "\n",
        "X_train, y_train = slicing_window(\n",
        "    univariate_df,\n",
        "    df_start_idx = 0,\n",
        "    df_end_idx = train_end_idx,\n",
        "    input_size = input_size,\n",
        "    label_size = label_size,\n",
        "    offset = offset\n",
        ")\n",
        "\n",
        "X_val, y_val = slicing_window(\n",
        "    univariate_df,\n",
        "    df_start_idx = train_end_idx,\n",
        "    df_end_idx = val_end_idx,\n",
        "    input_size = input_size,\n",
        "    label_size = label_size,\n",
        "    offset = offset\n",
        ")\n",
        "\n",
        "X_test, y_test = slicing_window(\n",
        "    univariate_df,\n",
        "    df_start_idx = val_end_idx,\n",
        "    df_end_idx = None,\n",
        "    input_size = input_size,\n",
        "    label_size = label_size,\n",
        "    offset = offset\n",
        ")"
      ],
      "metadata": {
        "id": "lQTSwj5OhUm_"
      },
      "execution_count": 6,
      "outputs": []
    },
    {
      "cell_type": "code",
      "source": [
        "# Build pytorch dataset\n",
        "\n",
        "class WeatherForecast(Dataset):\n",
        "    def __init__(self, X, y, transform=None):\n",
        "        self.X = X\n",
        "        self.y = y\n",
        "        self.transform = transform\n",
        "\n",
        "    def __len__(self):\n",
        "        return len(self.X)\n",
        "\n",
        "    def __getitem__(self, idx):\n",
        "        X = self.X[idx]\n",
        "        y = self.y[idx]\n",
        "\n",
        "        if self.transform:\n",
        "            X = self.transform(X)\n",
        "\n",
        "        X = torch.tensor(X, dtype=torch.float32)\n",
        "        y = torch.tensor(y, dtype=torch.float32)\n",
        "\n",
        "        return X, y"
      ],
      "metadata": {
        "id": "D6lsy17ziKuZ"
      },
      "execution_count": 7,
      "outputs": []
    },
    {
      "cell_type": "code",
      "source": [
        "# Declare dataloader\n",
        "\n",
        "train_dataset = WeatherForecast(X_train, y_train)\n",
        "\n",
        "val_dataset = WeatherForecast(X_val, y_val)\n",
        "\n",
        "test_dataset = WeatherForecast(X_test, y_test)\n",
        "\n",
        "train_batch_size = 128\n",
        "test_batch_size = 8\n",
        "\n",
        "train_loader = DataLoader(\n",
        "    train_dataset,\n",
        "    batch_size = train_batch_size,\n",
        "    shuffle = True\n",
        ")\n",
        "\n",
        "val_loader = DataLoader (\n",
        "    val_dataset,\n",
        "    batch_size = test_batch_size,\n",
        "    shuffle = False\n",
        ")\n",
        "test_loader = DataLoader (\n",
        "    test_dataset,\n",
        "    batch_size = test_batch_size,\n",
        "    shuffle = False\n",
        ")"
      ],
      "metadata": {
        "id": "tIn3XojLiiy6"
      },
      "execution_count": 8,
      "outputs": []
    },
    {
      "cell_type": "code",
      "source": [
        "# Build model\n",
        "\n",
        "class WeatherForecastor(nn.Module):\n",
        "    def __init__(self, embedding_dim, hidden_size, n_layers, dropout_prob):\n",
        "        super(WeatherForecastor, self ).__init__()\n",
        "        self.rnn = nn.RNN(embedding_dim, hidden_size, n_layers, batch_first=True)\n",
        "        self.norm = nn.LayerNorm(hidden_size)\n",
        "\n",
        "        self.dropout = nn.Dropout(dropout_prob)\n",
        "        self.fc = nn.Linear(hidden_size, 1)\n",
        "\n",
        "    def forward(self, x):\n",
        "        x, hn = self.rnn(x)\n",
        "        x = x[:, -1, :]\n",
        "        x = self.norm(x)\n",
        "        x = self.dropout(x)\n",
        "        x = self.fc(x)\n",
        "\n",
        "        return x"
      ],
      "metadata": {
        "id": "7__trOoyjS55"
      },
      "execution_count": 10,
      "outputs": []
    },
    {
      "cell_type": "code",
      "source": [
        "# Declare model\n",
        "\n",
        "embedding_dim = 1\n",
        "hidden_size = 8\n",
        "\n",
        "n_layers = 3\n",
        "dropout_prob = 0.2\n",
        "device = 'cuda' if torch.cuda.is_available() else 'cpu'\n",
        "print('Device: ', device)\n",
        "\n",
        "model = WeatherForecastor(\n",
        "    embedding_dim = embedding_dim,\n",
        "    hidden_size = hidden_size,\n",
        "    n_layers = n_layers,\n",
        "    dropout_prob = dropout_prob\n",
        ").to(device)"
      ],
      "metadata": {
        "colab": {
          "base_uri": "https://localhost:8080/"
        },
        "id": "tH_wx3HVVdk1",
        "outputId": "d859ae3b-f516-4c2e-a325-16566ad4c0f4"
      },
      "execution_count": 12,
      "outputs": [
        {
          "output_type": "stream",
          "name": "stdout",
          "text": [
            "Device:  cpu\n"
          ]
        }
      ]
    },
    {
      "cell_type": "code",
      "source": [
        "# Setup loss function and optimizer\n",
        "\n",
        "lr = 1e-3\n",
        "epochs = 50\n",
        "\n",
        "criterion = nn.MSELoss()\n",
        "optimizer = torch.optim.Adam(model.parameters(), lr=lr)"
      ],
      "metadata": {
        "id": "E8L7jCxsVxO-"
      },
      "execution_count": 14,
      "outputs": []
    },
    {
      "cell_type": "code",
      "source": [
        "# Train model\n",
        "\n",
        "def fit(model, train_loader, val_loader, criterion, optimizer, device, epochs):\n",
        "    train_losses = []\n",
        "    val_losses = []\n",
        "\n",
        "    for epoch in range(epochs):\n",
        "        batch_train_losses = []\n",
        "\n",
        "        model.train()\n",
        "        for idx, (inputs, labels) in enumerate(train_loader):\n",
        "            inputs, labels = inputs.to(device), labels.to(device)\n",
        "\n",
        "            optimizer.zero_grad()\n",
        "            outputs = model(inputs)\n",
        "            loss = criterion(outputs, labels)\n",
        "            loss.backward()\n",
        "            optimizer.step()\n",
        "\n",
        "            batch_train_losses.append(loss.item())\n",
        "\n",
        "        train_loss = sum(batch_train_losses) / len(batch_train_losses)\n",
        "        train_losses.append(train_loss)\n",
        "\n",
        "        val_loss, val_acc = evaluate(\n",
        "            model,\n",
        "            val_loader,\n",
        "            criterion,\n",
        "            device\n",
        "        )\n",
        "        val_losses.append(val_loss)\n",
        "\n",
        "        print(f'EPOCH {epoch + 1}: \\t Train loss: {train_loss:.4f} \\t Val loss: {val_loss:.4f}')\n",
        "\n",
        "    return train_losses, val_losses\n",
        "\n",
        "\n",
        "def evaluate(model, dataloader, criterion, device):\n",
        "    model.eval()\n",
        "    correct = 0\n",
        "    total = 0\n",
        "    losses = []\n",
        "    with torch.no_grad():\n",
        "        for inputs, labels in dataloader:\n",
        "            inputs, labels = inputs.to(device), labels.to(device)\n",
        "            outputs = model(inputs)\n",
        "            loss = criterion(outputs, labels)\n",
        "            losses.append(loss.item())\n",
        "            _, predicted = torch.max(outputs.data, 1)\n",
        "            total += labels.size(0)\n",
        "            correct += (predicted==labels).sum().item()\n",
        "\n",
        "    loss = sum(losses) / len(losses)\n",
        "    acc = correct / total\n",
        "\n",
        "    return loss, acc\n",
        "\n",
        "\n",
        "train_losses, val_losses = fit(\n",
        "    model,\n",
        "    train_loader,\n",
        "    val_loader,\n",
        "    criterion,\n",
        "    optimizer,\n",
        "    device,\n",
        "    epochs\n",
        ")"
      ],
      "metadata": {
        "colab": {
          "base_uri": "https://localhost:8080/"
        },
        "id": "tC9qOWImWFFf",
        "outputId": "8ac5ebb2-b714-48cf-915f-10b6057ba06c"
      },
      "execution_count": 16,
      "outputs": [
        {
          "output_type": "stream",
          "name": "stdout",
          "text": [
            "EPOCH 1: \t Train loss: 126.5261 \t Val loss: 40.6979\n",
            "EPOCH 2: \t Train loss: 29.9595 \t Val loss: 7.4822\n",
            "EPOCH 3: \t Train loss: 16.1813 \t Val loss: 3.5673\n",
            "EPOCH 4: \t Train loss: 13.1765 \t Val loss: 3.0718\n",
            "EPOCH 5: \t Train loss: 11.5970 \t Val loss: 2.0178\n",
            "EPOCH 6: \t Train loss: 10.7809 \t Val loss: 2.3695\n",
            "EPOCH 7: \t Train loss: 10.0049 \t Val loss: 2.7381\n",
            "EPOCH 8: \t Train loss: 9.5437 \t Val loss: 2.0497\n",
            "EPOCH 9: \t Train loss: 9.4036 \t Val loss: 1.8293\n",
            "EPOCH 10: \t Train loss: 9.0557 \t Val loss: 1.9996\n",
            "EPOCH 11: \t Train loss: 9.0126 \t Val loss: 1.5838\n",
            "EPOCH 12: \t Train loss: 8.7332 \t Val loss: 1.8631\n",
            "EPOCH 13: \t Train loss: 8.6026 \t Val loss: 1.9579\n",
            "EPOCH 14: \t Train loss: 8.3403 \t Val loss: 1.6885\n",
            "EPOCH 15: \t Train loss: 8.2734 \t Val loss: 1.9796\n",
            "EPOCH 16: \t Train loss: 8.0663 \t Val loss: 2.1195\n",
            "EPOCH 17: \t Train loss: 7.8379 \t Val loss: 1.6398\n",
            "EPOCH 18: \t Train loss: 7.7163 \t Val loss: 1.6172\n",
            "EPOCH 19: \t Train loss: 7.6191 \t Val loss: 1.6292\n",
            "EPOCH 20: \t Train loss: 7.4775 \t Val loss: 1.8229\n",
            "EPOCH 21: \t Train loss: 7.3221 \t Val loss: 1.6151\n",
            "EPOCH 22: \t Train loss: 7.1017 \t Val loss: 1.4764\n",
            "EPOCH 23: \t Train loss: 7.0805 \t Val loss: 1.5689\n",
            "EPOCH 24: \t Train loss: 6.8751 \t Val loss: 1.6785\n",
            "EPOCH 25: \t Train loss: 6.7295 \t Val loss: 1.5444\n",
            "EPOCH 26: \t Train loss: 6.7064 \t Val loss: 1.5918\n",
            "EPOCH 27: \t Train loss: 6.5104 \t Val loss: 1.5277\n",
            "EPOCH 28: \t Train loss: 6.4638 \t Val loss: 1.6160\n",
            "EPOCH 29: \t Train loss: 6.3892 \t Val loss: 1.6330\n",
            "EPOCH 30: \t Train loss: 6.4342 \t Val loss: 1.5141\n",
            "EPOCH 31: \t Train loss: 6.3062 \t Val loss: 1.6529\n",
            "EPOCH 32: \t Train loss: 6.1975 \t Val loss: 1.5560\n",
            "EPOCH 33: \t Train loss: 6.2111 \t Val loss: 1.5455\n",
            "EPOCH 34: \t Train loss: 6.1257 \t Val loss: 1.5698\n",
            "EPOCH 35: \t Train loss: 6.0597 \t Val loss: 1.6033\n",
            "EPOCH 36: \t Train loss: 6.0288 \t Val loss: 1.4451\n",
            "EPOCH 37: \t Train loss: 6.0359 \t Val loss: 1.5182\n",
            "EPOCH 38: \t Train loss: 5.9298 \t Val loss: 1.4846\n",
            "EPOCH 39: \t Train loss: 5.8433 \t Val loss: 1.4619\n",
            "EPOCH 40: \t Train loss: 5.7984 \t Val loss: 1.6284\n",
            "EPOCH 41: \t Train loss: 5.7324 \t Val loss: 1.5270\n",
            "EPOCH 42: \t Train loss: 5.7245 \t Val loss: 1.6252\n",
            "EPOCH 43: \t Train loss: 5.7284 \t Val loss: 1.7898\n",
            "EPOCH 44: \t Train loss: 5.6481 \t Val loss: 1.7091\n",
            "EPOCH 45: \t Train loss: 5.7157 \t Val loss: 1.5794\n",
            "EPOCH 46: \t Train loss: 5.6277 \t Val loss: 1.4708\n",
            "EPOCH 47: \t Train loss: 5.7337 \t Val loss: 1.4890\n",
            "EPOCH 48: \t Train loss: 5.5876 \t Val loss: 1.4646\n",
            "EPOCH 49: \t Train loss: 5.6095 \t Val loss: 1.9665\n",
            "EPOCH 50: \t Train loss: 5.6269 \t Val loss: 1.5435\n"
          ]
        }
      ]
    },
    {
      "cell_type": "code",
      "source": [
        "# Evaluate model\n",
        "\n",
        "val_loss = evaluate(\n",
        "    model,\n",
        "    val_loader,\n",
        "    criterion,\n",
        "    device\n",
        ")\n",
        "\n",
        "test_loss = evaluate(\n",
        "    model,\n",
        "    test_loader,\n",
        "    criterion,\n",
        "    device\n",
        ")\n",
        "\n",
        "print('Evaluation on val / test dataset')\n",
        "print('Val loss: ', val_loss)\n",
        "print('Test loss: ', test_loss)"
      ],
      "metadata": {
        "colab": {
          "base_uri": "https://localhost:8080/"
        },
        "id": "wkSBXuGKWlqP",
        "outputId": "f71a06ab-6ee5-47c5-89fe-67377c765b59"
      },
      "execution_count": 17,
      "outputs": [
        {
          "output_type": "stream",
          "name": "stdout",
          "text": [
            "Evaluation on val / test dataset\n",
            "Val loss:  (1.5434581463844523, 0.005391394504924832)\n",
            "Test loss:  (1.3666194923376642, 0.006639692914202718)\n"
          ]
        }
      ]
    },
    {
      "cell_type": "code",
      "source": [
        "# Visualize result\n",
        "\n",
        "def plot_difference(y, pred):\n",
        "    plt.figure(figsize=(16, 4))\n",
        "    times = range(len(y))\n",
        "    y_to_plot = y.flatten()\n",
        "    pred_to_plot = pred.flatten()\n",
        "\n",
        "    plt.plot(times, y_to_plot, color='steelblue', marker ='o', label='Truevalue')\n",
        "    plt.plot(times, pred_to_plot, color='orangered', marker='X', label='Prediction')\n",
        "\n",
        "    plt.title('Temperature in every hours')\n",
        "    plt.xlabel('Hour')\n",
        "    plt.ylabel('Temperature (C)')\n",
        "    plt.legend()\n",
        "    plt.show()\n",
        "\n",
        "inputs = torch.tensor(X_test[:100], dtype=torch.float32).to(device)\n",
        "model.eval()\n",
        "with torch.no_grad():\n",
        "    outputs = model(inputs).detach().cpu().numpy()\n",
        "plot_difference(y_test[:100], outputs)"
      ],
      "metadata": {
        "colab": {
          "base_uri": "https://localhost:8080/",
          "height": 410
        },
        "id": "VaE27sxGXJNi",
        "outputId": "a0611b34-dab8-478b-9a85-d1cf3a3c2f7b"
      },
      "execution_count": 22,
      "outputs": [
        {
          "output_type": "display_data",
          "data": {
            "text/plain": [
              "<Figure size 1600x400 with 1 Axes>"
            ],
            "image/png": "[encoded data removed]"
          },
          "metadata": {}
        }
      ]
    }
  ]
}